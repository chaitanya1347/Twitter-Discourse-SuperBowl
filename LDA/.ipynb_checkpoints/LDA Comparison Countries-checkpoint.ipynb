{
 "cells": [
  {
   "cell_type": "code",
   "execution_count": 75,
   "id": "261c9469",
   "metadata": {},
   "outputs": [],
   "source": [
    "import pandas as pd\n",
    "import numpy as np\n",
    "\n",
    "import re\n",
    "import string\n",
    "\n",
    "import spacy\n",
    "\n",
    "import gensim\n",
    "from gensim import corpora\n",
    "\n",
    "# libraries for visualization\n",
    "import pyLDAvis\n",
    "import matplotlib.pyplot as plt\n",
    "import seaborn as sns\n",
    "%matplotlib inline\n",
    "\n",
    "\n",
    "import warnings\n",
    "warnings.filterwarnings('ignore')"
   ]
  },
  {
   "cell_type": "code",
   "execution_count": 76,
   "id": "0cd1857f",
   "metadata": {},
   "outputs": [
    {
     "name": "stdout",
     "output_type": "stream",
     "text": [
      "Collecting en-core-web-md==3.3.0\n",
      "  Downloading https://github.com/explosion/spacy-models/releases/download/en_core_web_md-3.3.0/en_core_web_md-3.3.0-py3-none-any.whl (33.5 MB)\n",
      "     ---------------------------------------- 33.5/33.5 MB 8.1 MB/s eta 0:00:00\n",
      "Requirement already satisfied: spacy<3.4.0,>=3.3.0.dev0 in c:\\users\\chaitanya agrawal\\appdata\\local\\programs\\python\\python310\\lib\\site-packages (from en-core-web-md==3.3.0) (3.3.0)\n",
      "Requirement already satisfied: pathy>=0.3.5 in c:\\users\\chaitanya agrawal\\appdata\\local\\programs\\python\\python310\\lib\\site-packages (from spacy<3.4.0,>=3.3.0.dev0->en-core-web-md==3.3.0) (0.6.1)\n",
      "Requirement already satisfied: srsly<3.0.0,>=2.4.3 in c:\\users\\chaitanya agrawal\\appdata\\local\\programs\\python\\python310\\lib\\site-packages (from spacy<3.4.0,>=3.3.0.dev0->en-core-web-md==3.3.0) (2.4.3)\n",
      "Requirement already satisfied: preshed<3.1.0,>=3.0.2 in c:\\users\\chaitanya agrawal\\appdata\\local\\programs\\python\\python310\\lib\\site-packages (from spacy<3.4.0,>=3.3.0.dev0->en-core-web-md==3.3.0) (3.0.6)\n",
      "Requirement already satisfied: typer<0.5.0,>=0.3.0 in c:\\users\\chaitanya agrawal\\appdata\\local\\programs\\python\\python310\\lib\\site-packages (from spacy<3.4.0,>=3.3.0.dev0->en-core-web-md==3.3.0) (0.4.1)\n",
      "Requirement already satisfied: setuptools in c:\\users\\chaitanya agrawal\\appdata\\local\\programs\\python\\python310\\lib\\site-packages (from spacy<3.4.0,>=3.3.0.dev0->en-core-web-md==3.3.0) (57.4.0)\n",
      "Requirement already satisfied: packaging>=20.0 in c:\\users\\chaitanya agrawal\\appdata\\local\\programs\\python\\python310\\lib\\site-packages (from spacy<3.4.0,>=3.3.0.dev0->en-core-web-md==3.3.0) (21.3)\n",
      "Requirement already satisfied: thinc<8.1.0,>=8.0.14 in c:\\users\\chaitanya agrawal\\appdata\\local\\programs\\python\\python310\\lib\\site-packages (from spacy<3.4.0,>=3.3.0.dev0->en-core-web-md==3.3.0) (8.0.16)\n",
      "Requirement already satisfied: spacy-loggers<2.0.0,>=1.0.0 in c:\\users\\chaitanya agrawal\\appdata\\local\\programs\\python\\python310\\lib\\site-packages (from spacy<3.4.0,>=3.3.0.dev0->en-core-web-md==3.3.0) (1.0.2)\n",
      "Requirement already satisfied: tqdm<5.0.0,>=4.38.0 in c:\\users\\chaitanya agrawal\\appdata\\local\\programs\\python\\python310\\lib\\site-packages (from spacy<3.4.0,>=3.3.0.dev0->en-core-web-md==3.3.0) (4.64.0)\n",
      "Requirement already satisfied: spacy-legacy<3.1.0,>=3.0.9 in c:\\users\\chaitanya agrawal\\appdata\\local\\programs\\python\\python310\\lib\\site-packages (from spacy<3.4.0,>=3.3.0.dev0->en-core-web-md==3.3.0) (3.0.9)\n",
      "Requirement already satisfied: jinja2 in c:\\users\\chaitanya agrawal\\appdata\\local\\programs\\python\\python310\\lib\\site-packages (from spacy<3.4.0,>=3.3.0.dev0->en-core-web-md==3.3.0) (3.0.3)\n",
      "Requirement already satisfied: murmurhash<1.1.0,>=0.28.0 in c:\\users\\chaitanya agrawal\\appdata\\local\\programs\\python\\python310\\lib\\site-packages (from spacy<3.4.0,>=3.3.0.dev0->en-core-web-md==3.3.0) (1.0.7)\n",
      "Requirement already satisfied: catalogue<2.1.0,>=2.0.6 in c:\\users\\chaitanya agrawal\\appdata\\local\\programs\\python\\python310\\lib\\site-packages (from spacy<3.4.0,>=3.3.0.dev0->en-core-web-md==3.3.0) (2.0.7)\n",
      "Requirement already satisfied: pydantic!=1.8,!=1.8.1,<1.9.0,>=1.7.4 in c:\\users\\chaitanya agrawal\\appdata\\local\\programs\\python\\python310\\lib\\site-packages (from spacy<3.4.0,>=3.3.0.dev0->en-core-web-md==3.3.0) (1.8.2)\n",
      "Requirement already satisfied: langcodes<4.0.0,>=3.2.0 in c:\\users\\chaitanya agrawal\\appdata\\local\\programs\\python\\python310\\lib\\site-packages (from spacy<3.4.0,>=3.3.0.dev0->en-core-web-md==3.3.0) (3.3.0)\n",
      "Requirement already satisfied: cymem<2.1.0,>=2.0.2 in c:\\users\\chaitanya agrawal\\appdata\\local\\programs\\python\\python310\\lib\\site-packages (from spacy<3.4.0,>=3.3.0.dev0->en-core-web-md==3.3.0) (2.0.6)\n",
      "Requirement already satisfied: numpy>=1.15.0 in c:\\users\\chaitanya agrawal\\appdata\\local\\programs\\python\\python310\\lib\\site-packages (from spacy<3.4.0,>=3.3.0.dev0->en-core-web-md==3.3.0) (1.22.1)\n",
      "Requirement already satisfied: blis<0.8.0,>=0.4.0 in c:\\users\\chaitanya agrawal\\appdata\\local\\programs\\python\\python310\\lib\\site-packages (from spacy<3.4.0,>=3.3.0.dev0->en-core-web-md==3.3.0) (0.7.7)\n",
      "Requirement already satisfied: wasabi<1.1.0,>=0.9.1 in c:\\users\\chaitanya agrawal\\appdata\\local\\programs\\python\\python310\\lib\\site-packages (from spacy<3.4.0,>=3.3.0.dev0->en-core-web-md==3.3.0) (0.9.1)\n",
      "Requirement already satisfied: requests<3.0.0,>=2.13.0 in c:\\users\\chaitanya agrawal\\appdata\\local\\programs\\python\\python310\\lib\\site-packages (from spacy<3.4.0,>=3.3.0.dev0->en-core-web-md==3.3.0) (2.27.1)\n",
      "Requirement already satisfied: pyparsing!=3.0.5,>=2.0.2 in c:\\users\\chaitanya agrawal\\appdata\\local\\programs\\python\\python310\\lib\\site-packages (from packaging>=20.0->spacy<3.4.0,>=3.3.0.dev0->en-core-web-md==3.3.0) (3.0.7)\n",
      "Requirement already satisfied: smart-open<6.0.0,>=5.0.0 in c:\\users\\chaitanya agrawal\\appdata\\local\\programs\\python\\python310\\lib\\site-packages (from pathy>=0.3.5->spacy<3.4.0,>=3.3.0.dev0->en-core-web-md==3.3.0) (5.2.1)\n",
      "Requirement already satisfied: typing-extensions>=3.7.4.3 in c:\\users\\chaitanya agrawal\\appdata\\local\\programs\\python\\python310\\lib\\site-packages (from pydantic!=1.8,!=1.8.1,<1.9.0,>=1.7.4->spacy<3.4.0,>=3.3.0.dev0->en-core-web-md==3.3.0) (4.0.1)\n",
      "Requirement already satisfied: idna<4,>=2.5 in c:\\users\\chaitanya agrawal\\appdata\\local\\programs\\python\\python310\\lib\\site-packages (from requests<3.0.0,>=2.13.0->spacy<3.4.0,>=3.3.0.dev0->en-core-web-md==3.3.0) (3.3)\n",
      "Requirement already satisfied: urllib3<1.27,>=1.21.1 in c:\\users\\chaitanya agrawal\\appdata\\local\\programs\\python\\python310\\lib\\site-packages (from requests<3.0.0,>=2.13.0->spacy<3.4.0,>=3.3.0.dev0->en-core-web-md==3.3.0) (1.26.8)\n",
      "Requirement already satisfied: charset-normalizer~=2.0.0 in c:\\users\\chaitanya agrawal\\appdata\\local\\programs\\python\\python310\\lib\\site-packages (from requests<3.0.0,>=2.13.0->spacy<3.4.0,>=3.3.0.dev0->en-core-web-md==3.3.0) (2.0.11)\n",
      "Requirement already satisfied: certifi>=2017.4.17 in c:\\users\\chaitanya agrawal\\appdata\\local\\programs\\python\\python310\\lib\\site-packages (from requests<3.0.0,>=2.13.0->spacy<3.4.0,>=3.3.0.dev0->en-core-web-md==3.3.0) (2021.10.8)\n",
      "Requirement already satisfied: colorama in c:\\users\\chaitanya agrawal\\appdata\\local\\programs\\python\\python310\\lib\\site-packages (from tqdm<5.0.0,>=4.38.0->spacy<3.4.0,>=3.3.0.dev0->en-core-web-md==3.3.0) (0.4.4)\n",
      "Requirement already satisfied: click<9.0.0,>=7.1.1 in c:\\users\\chaitanya agrawal\\appdata\\local\\programs\\python\\python310\\lib\\site-packages (from typer<0.5.0,>=0.3.0->spacy<3.4.0,>=3.3.0.dev0->en-core-web-md==3.3.0) (8.0.3)\n",
      "Requirement already satisfied: MarkupSafe>=2.0 in c:\\users\\chaitanya agrawal\\appdata\\local\\programs\\python\\python310\\lib\\site-packages (from jinja2->spacy<3.4.0,>=3.3.0.dev0->en-core-web-md==3.3.0) (2.0.1)\n",
      "[+] Download and installation successful\n",
      "You can now load the package via spacy.load('en_core_web_md')\n"
     ]
    },
    {
     "name": "stderr",
     "output_type": "stream",
     "text": [
      "2022-05-26 21:19:26.772887: W tensorflow/stream_executor/platform/default/dso_loader.cc:64] Could not load dynamic library 'cudart64_110.dll'; dlerror: cudart64_110.dll not found\n",
      "2022-05-26 21:19:26.773555: I tensorflow/stream_executor/cuda/cudart_stub.cc:29] Ignore above cudart dlerror if you do not have a GPU set up on your machine.\n",
      "WARNING: You are using pip version 22.0.2; however, version 22.1.1 is available.\n",
      "You should consider upgrading via the 'C:\\Users\\CHAITANYA AGRAWAL\\AppData\\Local\\Programs\\Python\\Python310\\python.exe -m pip install --upgrade pip' command.\n"
     ]
    }
   ],
   "source": [
    "!python -m spacy download en_core_web_md "
   ]
  },
  {
   "cell_type": "code",
   "execution_count": 77,
   "id": "c21847cc",
   "metadata": {},
   "outputs": [
    {
     "name": "stdout",
     "output_type": "stream",
     "text": [
      "16886\n",
      "I know it's Superbowl week, but not enough attention is being paid to the fact that an entire professional sports team is out due to COVID protocols https://t.co/YfvehQTsmH\n",
      "Every day is the same under  Covid 😞 until this weekend 🎉🥳 @SixNationsRugby @WelshRugbyUnion #SixNationsRugby @SuperBowl   @NFLUK #SuperBowl\n"
     ]
    },
    {
     "data": {
      "text/html": [
       "<div>\n",
       "<style scoped>\n",
       "    .dataframe tbody tr th:only-of-type {\n",
       "        vertical-align: middle;\n",
       "    }\n",
       "\n",
       "    .dataframe tbody tr th {\n",
       "        vertical-align: top;\n",
       "    }\n",
       "\n",
       "    .dataframe thead th {\n",
       "        text-align: right;\n",
       "    }\n",
       "</style>\n",
       "<table border=\"1\" class=\"dataframe\">\n",
       "  <thead>\n",
       "    <tr style=\"text-align: right;\">\n",
       "      <th></th>\n",
       "      <th>tweet_id</th>\n",
       "      <th>text</th>\n",
       "      <th>author_id</th>\n",
       "      <th>created_at</th>\n",
       "      <th>place_id</th>\n",
       "      <th>like_count</th>\n",
       "      <th>quote_count</th>\n",
       "      <th>reply_count</th>\n",
       "      <th>retweet_count</th>\n",
       "      <th>conversation_id</th>\n",
       "      <th>in_reply_to_user_id</th>\n",
       "    </tr>\n",
       "  </thead>\n",
       "  <tbody>\n",
       "    <tr>\n",
       "      <th>0</th>\n",
       "      <td>1357131681799540739</td>\n",
       "      <td>I know it's Superbowl week, but not enough att...</td>\n",
       "      <td>1193706258</td>\n",
       "      <td>2021-02-04T00:59:41.000Z</td>\n",
       "      <td>553011a282a18fb5</td>\n",
       "      <td>1</td>\n",
       "      <td>0</td>\n",
       "      <td>0</td>\n",
       "      <td>0</td>\n",
       "      <td>1357131681799540739</td>\n",
       "      <td>NaN</td>\n",
       "    </tr>\n",
       "    <tr>\n",
       "      <th>1</th>\n",
       "      <td>1357131627017682948</td>\n",
       "      <td>So excited @NKCSchools @ClardyElemNKC teacher ...</td>\n",
       "      <td>1599737341</td>\n",
       "      <td>2021-02-04T00:59:28.000Z</td>\n",
       "      <td>9a974dfc8efb32a0</td>\n",
       "      <td>7</td>\n",
       "      <td>0</td>\n",
       "      <td>0</td>\n",
       "      <td>1</td>\n",
       "      <td>1357131627017682948</td>\n",
       "      <td>NaN</td>\n",
       "    </tr>\n",
       "    <tr>\n",
       "      <th>2</th>\n",
       "      <td>1357131488521834501</td>\n",
       "      <td>@HedgehogBarnes @MichaelWight20 Have a good ev...</td>\n",
       "      <td>1168701223266115584</td>\n",
       "      <td>2021-02-04T00:58:55.000Z</td>\n",
       "      <td>27c45d804c777999</td>\n",
       "      <td>1</td>\n",
       "      <td>0</td>\n",
       "      <td>0</td>\n",
       "      <td>0</td>\n",
       "      <td>1357025463642841092</td>\n",
       "      <td>1.265781e+18</td>\n",
       "    </tr>\n",
       "    <tr>\n",
       "      <th>3</th>\n",
       "      <td>1357131474919710722</td>\n",
       "      <td>Super Bowl Sunday takeout wing Special!  5lbs ...</td>\n",
       "      <td>2858023997</td>\n",
       "      <td>2021-02-04T00:58:52.000Z</td>\n",
       "      <td>0122033a364ebdac</td>\n",
       "      <td>1</td>\n",
       "      <td>0</td>\n",
       "      <td>0</td>\n",
       "      <td>0</td>\n",
       "      <td>1357131474919710722</td>\n",
       "      <td>NaN</td>\n",
       "    </tr>\n",
       "    <tr>\n",
       "      <th>4</th>\n",
       "      <td>1357131429730254849</td>\n",
       "      <td>Still trying to fathom how Tom Brady is playin...</td>\n",
       "      <td>231557142</td>\n",
       "      <td>2021-02-04T00:58:41.000Z</td>\n",
       "      <td>092d7c3d0cba2fc2</td>\n",
       "      <td>5</td>\n",
       "      <td>0</td>\n",
       "      <td>1</td>\n",
       "      <td>1</td>\n",
       "      <td>1357131429730254849</td>\n",
       "      <td>NaN</td>\n",
       "    </tr>\n",
       "    <tr>\n",
       "      <th>...</th>\n",
       "      <td>...</td>\n",
       "      <td>...</td>\n",
       "      <td>...</td>\n",
       "      <td>...</td>\n",
       "      <td>...</td>\n",
       "      <td>...</td>\n",
       "      <td>...</td>\n",
       "      <td>...</td>\n",
       "      <td>...</td>\n",
       "      <td>...</td>\n",
       "      <td>...</td>\n",
       "    </tr>\n",
       "    <tr>\n",
       "      <th>16881</th>\n",
       "      <td>1359276965916798976</td>\n",
       "      <td>Brady ain’t goat bc he didn’t win a super bowl...</td>\n",
       "      <td>395775438</td>\n",
       "      <td>2021-02-09T23:04:17.000Z</td>\n",
       "      <td>18810aa5b43e76c7</td>\n",
       "      <td>3</td>\n",
       "      <td>0</td>\n",
       "      <td>0</td>\n",
       "      <td>1</td>\n",
       "      <td>1359276965916798976</td>\n",
       "      <td>NaN</td>\n",
       "    </tr>\n",
       "    <tr>\n",
       "      <th>16882</th>\n",
       "      <td>1359276900758265856</td>\n",
       "      <td>After Dallas trades away Dak, who gets a Super...</td>\n",
       "      <td>1076266429110984704</td>\n",
       "      <td>2021-02-09T23:04:01.000Z</td>\n",
       "      <td>7dda05213481260c</td>\n",
       "      <td>0</td>\n",
       "      <td>0</td>\n",
       "      <td>0</td>\n",
       "      <td>0</td>\n",
       "      <td>1359276900758265856</td>\n",
       "      <td>NaN</td>\n",
       "    </tr>\n",
       "    <tr>\n",
       "      <th>16883</th>\n",
       "      <td>1359276830902128641</td>\n",
       "      <td>@djhercules_787 and @joetorry killin' it at th...</td>\n",
       "      <td>3342210646</td>\n",
       "      <td>2021-02-09T23:03:45.000Z</td>\n",
       "      <td>dc62519fda13b4ec</td>\n",
       "      <td>0</td>\n",
       "      <td>0</td>\n",
       "      <td>0</td>\n",
       "      <td>0</td>\n",
       "      <td>1359276830902128641</td>\n",
       "      <td>NaN</td>\n",
       "    </tr>\n",
       "    <tr>\n",
       "      <th>16884</th>\n",
       "      <td>1359276425996599296</td>\n",
       "      <td>Losing in the divisional round &amp;gt; losing in ...</td>\n",
       "      <td>1102915302474551297</td>\n",
       "      <td>2021-02-09T23:02:08.000Z</td>\n",
       "      <td>4015afc69a8a8506</td>\n",
       "      <td>11</td>\n",
       "      <td>0</td>\n",
       "      <td>2</td>\n",
       "      <td>0</td>\n",
       "      <td>1359276425996599296</td>\n",
       "      <td>NaN</td>\n",
       "    </tr>\n",
       "    <tr>\n",
       "      <th>16885</th>\n",
       "      <td>1359275890560139268</td>\n",
       "      <td>What a night #gobucs #superbowl2021 #superbowl...</td>\n",
       "      <td>176907323</td>\n",
       "      <td>2021-02-09T23:00:01.000Z</td>\n",
       "      <td>6d4de57fa00a913f</td>\n",
       "      <td>2</td>\n",
       "      <td>0</td>\n",
       "      <td>0</td>\n",
       "      <td>0</td>\n",
       "      <td>1359275890560139268</td>\n",
       "      <td>NaN</td>\n",
       "    </tr>\n",
       "  </tbody>\n",
       "</table>\n",
       "<p>16886 rows × 11 columns</p>\n",
       "</div>"
      ],
      "text/plain": [
       "                  tweet_id                                               text  \\\n",
       "0      1357131681799540739  I know it's Superbowl week, but not enough att...   \n",
       "1      1357131627017682948  So excited @NKCSchools @ClardyElemNKC teacher ...   \n",
       "2      1357131488521834501  @HedgehogBarnes @MichaelWight20 Have a good ev...   \n",
       "3      1357131474919710722  Super Bowl Sunday takeout wing Special!  5lbs ...   \n",
       "4      1357131429730254849  Still trying to fathom how Tom Brady is playin...   \n",
       "...                    ...                                                ...   \n",
       "16881  1359276965916798976  Brady ain’t goat bc he didn’t win a super bowl...   \n",
       "16882  1359276900758265856  After Dallas trades away Dak, who gets a Super...   \n",
       "16883  1359276830902128641  @djhercules_787 and @joetorry killin' it at th...   \n",
       "16884  1359276425996599296  Losing in the divisional round &gt; losing in ...   \n",
       "16885  1359275890560139268  What a night #gobucs #superbowl2021 #superbowl...   \n",
       "\n",
       "                 author_id                created_at          place_id  \\\n",
       "0               1193706258  2021-02-04T00:59:41.000Z  553011a282a18fb5   \n",
       "1               1599737341  2021-02-04T00:59:28.000Z  9a974dfc8efb32a0   \n",
       "2      1168701223266115584  2021-02-04T00:58:55.000Z  27c45d804c777999   \n",
       "3               2858023997  2021-02-04T00:58:52.000Z  0122033a364ebdac   \n",
       "4                231557142  2021-02-04T00:58:41.000Z  092d7c3d0cba2fc2   \n",
       "...                    ...                       ...               ...   \n",
       "16881            395775438  2021-02-09T23:04:17.000Z  18810aa5b43e76c7   \n",
       "16882  1076266429110984704  2021-02-09T23:04:01.000Z  7dda05213481260c   \n",
       "16883           3342210646  2021-02-09T23:03:45.000Z  dc62519fda13b4ec   \n",
       "16884  1102915302474551297  2021-02-09T23:02:08.000Z  4015afc69a8a8506   \n",
       "16885            176907323  2021-02-09T23:00:01.000Z  6d4de57fa00a913f   \n",
       "\n",
       "       like_count  quote_count  reply_count  retweet_count  \\\n",
       "0               1            0            0              0   \n",
       "1               7            0            0              1   \n",
       "2               1            0            0              0   \n",
       "3               1            0            0              0   \n",
       "4               5            0            1              1   \n",
       "...           ...          ...          ...            ...   \n",
       "16881           3            0            0              1   \n",
       "16882           0            0            0              0   \n",
       "16883           0            0            0              0   \n",
       "16884          11            0            2              0   \n",
       "16885           2            0            0              0   \n",
       "\n",
       "           conversation_id  in_reply_to_user_id  \n",
       "0      1357131681799540739                  NaN  \n",
       "1      1357131627017682948                  NaN  \n",
       "2      1357025463642841092         1.265781e+18  \n",
       "3      1357131474919710722                  NaN  \n",
       "4      1357131429730254849                  NaN  \n",
       "...                    ...                  ...  \n",
       "16881  1359276965916798976                  NaN  \n",
       "16882  1359276900758265856                  NaN  \n",
       "16883  1359276830902128641                  NaN  \n",
       "16884  1359276425996599296                  NaN  \n",
       "16885  1359275890560139268                  NaN  \n",
       "\n",
       "[16886 rows x 11 columns]"
      ]
     },
     "execution_count": 77,
     "metadata": {},
     "output_type": "execute_result"
    }
   ],
   "source": [
    "data1= pd.read_csv(\"C:\\\\Users\\CHAITANYA AGRAWAL\\\\OneDrive - IIT Delhi\\\\Desktop\\\\Projects\\\\Toronto\\\\Scraping the data\\\\Final script and data\\\\US\\\\US_2021.csv\")\n",
    "data2=pd.read_csv(\"C:\\\\Users\\\\CHAITANYA AGRAWAL\\\\OneDrive - IIT Delhi\\\\Desktop\\\\Projects\\\\Toronto\\\\Scraping the data\\\\Final script and data\\\\GB\\\\GB_2021.csv\")\n",
    "print(len(data1))\n",
    "print(data1['text'][0])\n",
    "print(data2['text'][0])\n",
    "data1"
   ]
  },
  {
   "cell_type": "code",
   "execution_count": 78,
   "id": "a1630402",
   "metadata": {},
   "outputs": [],
   "source": [
    "data1['text'] = data1['text'].replace(r'http\\S+', '', regex=True).replace(r'www\\S+', '', regex=True)\n",
    "data2['text'] = data2['text'].replace(r'http\\S+', '', regex=True).replace(r'www\\S+', '', regex=True)"
   ]
  },
  {
   "cell_type": "code",
   "execution_count": 79,
   "id": "e0430c79",
   "metadata": {},
   "outputs": [
    {
     "data": {
      "text/plain": [
       "\"I know it's Superbowl week, but not enough attention is being paid to the fact that an entire professional sports team is out due to COVID protocols \""
      ]
     },
     "execution_count": 79,
     "metadata": {},
     "output_type": "execute_result"
    }
   ],
   "source": [
    "data1['text'][0]"
   ]
  },
  {
   "cell_type": "code",
   "execution_count": 80,
   "id": "11728aef",
   "metadata": {},
   "outputs": [],
   "source": [
    "def clean_text(text ): \n",
    "    delete_dict = {sp_character: '' for sp_character in string.punctuation} \n",
    "    delete_dict[' '] = ' ' \n",
    "    table = str.maketrans(delete_dict)\n",
    "    text1 = text.translate(table)\n",
    "    #print('cleaned:'+text1)\n",
    "    textArr= text1.split()\n",
    "    text2 = ' '.join([w for w in textArr if ( not w.isdigit() and  ( not w.isdigit() and len(w)>3))]) \n",
    "    \n",
    "    return text2.lower()"
   ]
  },
  {
   "cell_type": "code",
   "execution_count": 81,
   "id": "b6b7aaaf",
   "metadata": {},
   "outputs": [
    {
     "name": "stderr",
     "output_type": "stream",
     "text": [
      "[nltk_data] Downloading package stopwords to C:\\Users\\CHAITANYA\n",
      "[nltk_data]     AGRAWAL\\AppData\\Roaming\\nltk_data...\n",
      "[nltk_data]   Package stopwords is already up-to-date!\n"
     ]
    },
    {
     "data": {
      "text/plain": [
       "True"
      ]
     },
     "execution_count": 81,
     "metadata": {},
     "output_type": "execute_result"
    }
   ],
   "source": [
    "import nltk\n",
    "nltk.download('stopwords') # run this one time"
   ]
  },
  {
   "cell_type": "code",
   "execution_count": 82,
   "id": "ace0724a",
   "metadata": {},
   "outputs": [
    {
     "name": "stdout",
     "output_type": "stream",
     "text": [
      "16886\n",
      "80\n",
      "2634\n",
      "35\n"
     ]
    }
   ],
   "source": [
    "data1['text'] = data1['text'].apply(clean_text)\n",
    "data1['Num_words_text'] = data1['text'].apply(lambda x:len(str(x).split())) \n",
    "\n",
    "print(len(data1))\n",
    "\n",
    "max_sentence_length_1  = data1['Num_words_text'].max()\n",
    "print(max_sentence_length_1)\n",
    "\n",
    "data2['text'] = data2['text'].apply(clean_text)\n",
    "data2['Num_words_text'] = data2['text'].apply(lambda x:len(str(x).split())) \n",
    "\n",
    "print(len(data2))\n",
    "\n",
    "max_sentence_length_2  = data2['Num_words_text'].max()\n",
    "print(max_sentence_length_2)\n",
    "\n",
    "\n",
    "\n",
    "#all_sentences = train_data['text'].tolist() + test_data['text'].tolist()\n"
   ]
  },
  {
   "cell_type": "code",
   "execution_count": 83,
   "id": "1597d86b",
   "metadata": {},
   "outputs": [],
   "source": [
    "from nltk.corpus import stopwords\n",
    "stop_words = stopwords.words('english')\n",
    "# function to remove stopwords\n",
    "def remove_stopwords(text):\n",
    "    textArr = text.split(' ')\n",
    "    rem_text = \" \".join([i for i in textArr if i not in stop_words])\n",
    "    return rem_text\n",
    "\n",
    "# remove stopwords from the text\n",
    "data1['text']=data1['text'].apply(remove_stopwords)\n",
    "data2['text']=data2['text'].apply(remove_stopwords)\n"
   ]
  },
  {
   "cell_type": "code",
   "execution_count": 84,
   "id": "744c3238",
   "metadata": {},
   "outputs": [
    {
     "data": {
      "text/plain": [
       "'know superbowl week enough attention paid fact entire professional sports team covid protocols'"
      ]
     },
     "execution_count": 84,
     "metadata": {},
     "output_type": "execute_result"
    }
   ],
   "source": [
    "data1['text'][0]"
   ]
  },
  {
   "cell_type": "code",
   "execution_count": 88,
   "id": "b914f26a",
   "metadata": {},
   "outputs": [],
   "source": [
    "nlp = spacy.load('en_core_web_md', disable=['parser', 'ner'])\n",
    "\n",
    "def lemmatization(texts,allowed_postags=['NOUN', 'ADJ','VERB']): \n",
    "       output = []\n",
    "       for sent in texts:\n",
    "             doc = nlp(sent) \n",
    "             output.append([token.lemma_ for token in doc if token.pos_ in allowed_postags ])\n",
    "       return output"
   ]
  },
  {
   "cell_type": "code",
   "execution_count": 90,
   "id": "7c4a98c3",
   "metadata": {},
   "outputs": [
    {
     "name": "stdout",
     "output_type": "stream",
     "text": [
      "excited nkcschools clardyelemnkc teacher chiefs cheerleader going superbowl students sunday thank alankmbc kmbc featuring ellie chiefskingdom runitback\n",
      "always youtube version tallboyradio podcast drops audio version week features stars tandsshow talking football superbowl podcastlife podernfamily\n"
     ]
    }
   ],
   "source": [
    "print(data1['text'][1])\n",
    "print(data2['text'][1])"
   ]
  },
  {
   "cell_type": "code",
   "execution_count": 91,
   "id": "2797da26",
   "metadata": {},
   "outputs": [
    {
     "name": "stdout",
     "output_type": "stream",
     "text": [
      "excited nkcschools clardyelemnkc teacher chiefs cheerleader going superbowl students sunday thank alankmbc kmbc featuring ellie chiefskingdom runitback\n",
      "always youtube version tallboyradio podcast drops audio version week features stars tandsshow talking football superbowl podcastlife podernfamily\n",
      "['excite', 'nkcschool', 'clardyelemnkc', 'teacher', 'chief', 'cheerleader', 'go', 'superbowl', 'student', 'thank', 'feature', 'runitback']\n",
      "['youtube', 'version', 'tallboyradio', 'podcast', 'drop', 'audio', 'version', 'week', 'feature', 'star', 'tandsshow', 'talk', 'football', 'podcastlife']\n"
     ]
    }
   ],
   "source": [
    "text_list_1=data1['text'].tolist()\n",
    "text_list_2=data2['text'].tolist()\n",
    "print(text_list_1[1])\n",
    "print(text_list_2[1])\n",
    "tokenized_reviews_1 = lemmatization(text_list_1)\n",
    "tokenized_reviews_2 = lemmatization(text_list_2)\n",
    "print(tokenized_reviews_1[1])\n",
    "print(tokenized_reviews_2[1])"
   ]
  },
  {
   "cell_type": "code",
   "execution_count": null,
   "id": "7a495b94",
   "metadata": {},
   "outputs": [],
   "source": []
  }
 ],
 "metadata": {
  "kernelspec": {
   "display_name": "Python 3 (ipykernel)",
   "language": "python",
   "name": "python3"
  },
  "language_info": {
   "codemirror_mode": {
    "name": "ipython",
    "version": 3
   },
   "file_extension": ".py",
   "mimetype": "text/x-python",
   "name": "python",
   "nbconvert_exporter": "python",
   "pygments_lexer": "ipython3",
   "version": "3.10.0"
  }
 },
 "nbformat": 4,
 "nbformat_minor": 5
}
